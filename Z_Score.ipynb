{
  "nbformat": 4,
  "nbformat_minor": 0,
  "metadata": {
    "colab": {
      "name": "Z-Score.ipynb",
      "provenance": [],
      "collapsed_sections": [],
      "authorship_tag": "ABX9TyPIveV7pIz5Ju02I8NkEojF",
      "include_colab_link": true
    },
    "kernelspec": {
      "name": "python3",
      "display_name": "Python 3"
    }
  },
  "cells": [
    {
      "cell_type": "markdown",
      "metadata": {
        "id": "view-in-github",
        "colab_type": "text"
      },
      "source": [
        "<a href=\"https://colab.research.google.com/github/peconnally/finance/blob/master/Z_Score.ipynb\" target=\"_parent\"><img src=\"https://colab.research.google.com/assets/colab-badge.svg\" alt=\"Open In Colab\"/></a>"
      ]
    },
    {
      "cell_type": "code",
      "metadata": {
        "id": "URRYz6KCxkBW",
        "colab_type": "code",
        "outputId": "2c46372b-1f01-4fb1-ac33-1859c16df169",
        "colab": {
          "base_uri": "https://localhost:8080/",
          "height": 34
        }
      },
      "source": [
        "  # A Program To Find a Company's Altman Z-Score\n",
        "  import pandas as pd\n",
        "  import numpy as np\n",
        "  import requests, json\n",
        "  # Function\n",
        "  def get_data(ticker):\n",
        "   \n",
        "    # Endpoints\n",
        "\n",
        "    base_url ='https://financialmodelingprep.com/api/v3/' \n",
        "\n",
        "    # Balance Sheet\n",
        "\n",
        "    balance_sheet = requests.get(base_url + 'financials/balance-sheet-statement/' + ticker + '?period=quarter')\n",
        "    balance_sheet = balance_sheet.json()\n",
        "    balance_sheet = pd.DataFrame(balance_sheet).head(1).values\n",
        "    balance_sheet = balance_sheet[0]\n",
        "    balance_sheet = balance_sheet[1]\n",
        "\n",
        "    # Income Stataement\n",
        "\n",
        "    income_statement = requests.get(base_url + \"financials/income-statement/\" + ticker)\n",
        "    income_statement = income_statement.json()\n",
        "    income_statement = pd.DataFrame(income_statement).head(1).values\n",
        "    income_statement = income_statement[0]\n",
        "    income_statement = income_statement[1]\n",
        "\n",
        "    # Quote\n",
        "\n",
        "    quote = requests.get(base_url + 'quote/' + ticker)\n",
        "    quote = quote.json()\n",
        "    quote = quote[0]\n",
        "\n",
        "    # Altman Z-Score\n",
        "\n",
        "    total_assets = float(balance_sheet[\"Total assets\"])\n",
        "    total_liabilities = float(balance_sheet[\"Total liabilities\"])\n",
        "\n",
        "    # A = Working Capital/Total Assets\n",
        "    TC_Assets = float(balance_sheet['Total current assets'])\n",
        "    TC_Liabilites = float(balance_sheet['Total current liabilities'])\n",
        "    working_capital = TC_Assets - TC_Liabilites\n",
        "    A = working_capital/total_assets\n",
        "\n",
        "    # B = Retained Earnings/Total Assets\n",
        "\n",
        "    retained_earnings = float(balance_sheet[\"Retained earnings (deficit)\"])\n",
        "    B = retained_earnings/total_assets\n",
        "\n",
        "    # C = EBIT/Total Assets\n",
        "    \n",
        "    EBIT = float(income_statement['EBIT'])\n",
        "    C = EBIT/total_assets\n",
        "\n",
        "    # D = Market Capitalization/Total Liabilities\n",
        "\n",
        "    mkt_cap = float(quote['marketCap'])\n",
        "    D = mkt_cap/total_liabilities\n",
        "\n",
        "    # E = Revenue/Total Assets\n",
        "\n",
        "    revenue = float(income_statement['Revenue'])\n",
        "    E = revenue/total_assets\n",
        "\n",
        "    # Calculation\n",
        "\n",
        "    ZScore = 1.2*A + 1.4*B + 3.3*C + 0.6*D + 1.0*E\n",
        "    print(ZScore)\n",
        "get_data('AAPL')"
      ],
      "execution_count": 17,
      "outputs": [
        {
          "output_type": "stream",
          "text": [
            "4.638944176599088\n"
          ],
          "name": "stdout"
        }
      ]
    }
  ]
}