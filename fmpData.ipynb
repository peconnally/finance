{
  "nbformat": 4,
  "nbformat_minor": 0,
  "metadata": {
    "colab": {
      "name": "fmpData.ipynb",
      "provenance": [],
      "collapsed_sections": [],
      "authorship_tag": "ABX9TyP9djwtw3p1HVAz0t1TCilF",
      "include_colab_link": true
    },
    "kernelspec": {
      "name": "python3",
      "display_name": "Python 3"
    }
  },
  "cells": [
    {
      "cell_type": "markdown",
      "metadata": {
        "id": "view-in-github",
        "colab_type": "text"
      },
      "source": [
        "<a href=\"https://colab.research.google.com/github/peconnally/finance/blob/master/fmpData.ipynb\" target=\"_parent\"><img src=\"https://colab.research.google.com/assets/colab-badge.svg\" alt=\"Open In Colab\"/></a>"
      ]
    },
    {
      "cell_type": "code",
      "metadata": {
        "id": "iIw9f7F2whNR",
        "colab_type": "code",
        "outputId": "4c866865-be6e-4722-809d-eb45d7646585",
        "colab": {
          "base_uri": "https://localhost:8080/",
          "height": 170
        }
      },
      "source": [
        "pip install pprint"
      ],
      "execution_count": 0,
      "outputs": [
        {
          "output_type": "stream",
          "text": [
            "Collecting pprint\n",
            "  Downloading https://files.pythonhosted.org/packages/99/12/b6383259ef85c2b942ab9135f322c0dce83fdca8600d87122d2b0181451f/pprint-0.1.tar.gz\n",
            "Building wheels for collected packages: pprint\n",
            "  Building wheel for pprint (setup.py) ... \u001b[?25l\u001b[?25hdone\n",
            "  Created wheel for pprint: filename=pprint-0.1-cp36-none-any.whl size=1251 sha256=3526bdaac98bd637f86d0e252688a81d8e827e242dd2caf92d7134824f03247a\n",
            "  Stored in directory: /root/.cache/pip/wheels/42/d4/c6/16a6495aecc1bda5d5857bd036efd50617789ba9bea4a05124\n",
            "Successfully built pprint\n",
            "Installing collected packages: pprint\n",
            "Successfully installed pprint-0.1\n"
          ],
          "name": "stdout"
        }
      ]
    },
    {
      "cell_type": "code",
      "metadata": {
        "id": "cYvOQwmywljP",
        "colab_type": "code",
        "colab": {}
      },
      "source": [
        "import requests, json\n",
        "import pandas as pd\n",
        "import numpy as np\n",
        "import pprint as pprint"
      ],
      "execution_count": 0,
      "outputs": []
    },
    {
      "cell_type": "code",
      "metadata": {
        "id": "UWVchuBvw5rY",
        "colab_type": "code",
        "colab": {}
      },
      "source": [
        "def get_data(endpoint):\n",
        "  base_url ='https://financialmodelingprep.com/api/v3/' \n",
        "  ticker = input(\"Enter ticker: \")\n",
        "  end_url = base_url + endpoint + ticker\n",
        "  res = requests.get(end_url)\n",
        "  data = res.json()\n",
        "  \n",
        "\n",
        "  if endpoint == \"quote/\":\n",
        "    rdata = pd.DataFrame(data)\n",
        "    price = rdata.price.values\n",
        "    price_change = rdata.change.values\n",
        "    percent_change = rdata.changesPercentage.values\n",
        "    print(\"Price: \")\n",
        "    print(price[0])\n",
        "    print(\"Price Change\")\n",
        "    print(price_change[0])\n",
        "    print(\"Percent Change: \")\n",
        "    print(percent_change[0])\n",
        "  \n",
        "  if endpoint == \"financials/balance-sheet-statement/\":\n",
        "    fdata = pd.DataFrame(data)\n",
        "    fdata = fdata.head(1)\n",
        "    print(fdata)\n",
        "    #working_capital = fdata.\n",
        "    #working_capital = total_assets - total_liabilities\n",
        "\n",
        "  "
      ],
      "execution_count": 0,
      "outputs": []
    },
    {
      "cell_type": "code",
      "metadata": {
        "id": "xBAR8c8RxjI3",
        "colab_type": "code",
        "outputId": "6be398dc-5b85-4c95-a193-045994006d61",
        "colab": {
          "base_uri": "https://localhost:8080/",
          "height": 68
        }
      },
      "source": [
        "get_data(\"financials/balance-sheet-statement/\")"
      ],
      "execution_count": 70,
      "outputs": [
        {
          "output_type": "stream",
          "text": [
            "Enter ticker: LULU\n",
            "  symbol                                         financials\n",
            "0   LULU  {'date': '2019-02-03', 'Cash and cash equivale...\n"
          ],
          "name": "stdout"
        }
      ]
    },
    {
      "cell_type": "code",
      "metadata": {
        "id": "SqIORHU_skzu",
        "colab_type": "code",
        "colab": {}
      },
      "source": [
        ""
      ],
      "execution_count": 0,
      "outputs": []
    }
  ]
}